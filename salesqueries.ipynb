{
 "metadata": {
  "language_info": {
   "codemirror_mode": {
    "name": "ipython",
    "version": 3
   },
   "file_extension": ".py",
   "mimetype": "text/x-python",
   "name": "python",
   "nbconvert_exporter": "python",
   "pygments_lexer": "ipython3",
   "version": "3.8.5-final"
  },
  "orig_nbformat": 2,
  "kernelspec": {
   "name": "python385jvsc74a57bd0b3ba2566441a7c06988d0923437866b63cedc61552a5af99d1f4fb67d367b25f",
   "display_name": "Python 3.8.5 64-bit (conda)"
  }
 },
 "nbformat": 4,
 "nbformat_minor": 2,
 "cells": [
  {
   "source": [
    "import os \n",
    "import pandas as pd\n",
    "import numpy as np \n",
    "import sqlalchemy as sql \n",
    "import matplotlib.pyplot as plt "
   ],
   "cell_type": "code",
   "metadata": {},
   "execution_count": 1,
   "outputs": []
  },
  {
   "source": [
    "## Create engine to connect to database"
   ],
   "cell_type": "markdown",
   "metadata": {}
  },
  {
   "cell_type": "code",
   "execution_count": 2,
   "metadata": {},
   "outputs": [],
   "source": [
    "from config import db_uri\n",
    "engine = sql.create_engine(db_uri)"
   ]
  },
  {
   "source": [
    "## Verifying sheet names in excel book"
   ],
   "cell_type": "markdown",
   "metadata": {}
  },
  {
   "cell_type": "code",
   "execution_count": 3,
   "metadata": {},
   "outputs": [
    {
     "output_type": "execute_result",
     "data": {
      "text/plain": [
       "['Product Sales',\n",
       " 'Sheet1',\n",
       " 'Employees',\n",
       " 'Sales Periods',\n",
       " 'Items Offered',\n",
       " 'Toy_PowerBI_Example',\n",
       " 'Product Price Change',\n",
       " 'Product Details',\n",
       " 'capstone_tables_part1',\n",
       " 'capstone_table_part2']"
      ]
     },
     "metadata": {},
     "execution_count": 3
    }
   ],
   "source": [
    "filename = 'data.xlsx'\n",
    "book = pd.ExcelFile(filename)\n",
    "book.sheet_names"
   ]
  },
  {
   "source": [
    "## Create Sales by Regions"
   ],
   "cell_type": "markdown",
   "metadata": {}
  },
  {
   "source": [
    "### Obtain employees table data"
   ],
   "cell_type": "markdown",
   "metadata": {}
  },
  {
   "cell_type": "code",
   "execution_count": 4,
   "metadata": {},
   "outputs": [
    {
     "output_type": "execute_result",
     "data": {
      "text/plain": [
       "    Sales Team Lead PayGrade Region  EMP_ID\n",
       "0       Evans, Gina      C12     NW  EMP244\n",
       "1     Lawson, Harry      C11     NW  EMP256\n",
       "2    Bachmann, Jane      C13     NW  EMP234\n",
       "3  Clement, Beverly      C14     SW  EMP267\n",
       "4      Allen, Maude      C12     SW  EMP290"
      ],
      "text/html": "<div>\n<style scoped>\n    .dataframe tbody tr th:only-of-type {\n        vertical-align: middle;\n    }\n\n    .dataframe tbody tr th {\n        vertical-align: top;\n    }\n\n    .dataframe thead th {\n        text-align: right;\n    }\n</style>\n<table border=\"1\" class=\"dataframe\">\n  <thead>\n    <tr style=\"text-align: right;\">\n      <th></th>\n      <th>Sales Team Lead</th>\n      <th>PayGrade</th>\n      <th>Region</th>\n      <th>EMP_ID</th>\n    </tr>\n  </thead>\n  <tbody>\n    <tr>\n      <th>0</th>\n      <td>Evans, Gina</td>\n      <td>C12</td>\n      <td>NW</td>\n      <td>EMP244</td>\n    </tr>\n    <tr>\n      <th>1</th>\n      <td>Lawson, Harry</td>\n      <td>C11</td>\n      <td>NW</td>\n      <td>EMP256</td>\n    </tr>\n    <tr>\n      <th>2</th>\n      <td>Bachmann, Jane</td>\n      <td>C13</td>\n      <td>NW</td>\n      <td>EMP234</td>\n    </tr>\n    <tr>\n      <th>3</th>\n      <td>Clement, Beverly</td>\n      <td>C14</td>\n      <td>SW</td>\n      <td>EMP267</td>\n    </tr>\n    <tr>\n      <th>4</th>\n      <td>Allen, Maude</td>\n      <td>C12</td>\n      <td>SW</td>\n      <td>EMP290</td>\n    </tr>\n  </tbody>\n</table>\n</div>"
     },
     "metadata": {},
     "execution_count": 4
    }
   ],
   "source": [
    "employees_df = book.parse('Employees')\n",
    "employees_df"
   ]
  },
  {
   "source": [
    "### Obtain product sales data"
   ],
   "cell_type": "markdown",
   "metadata": {}
  },
  {
   "cell_type": "code",
   "execution_count": 5,
   "metadata": {},
   "outputs": [
    {
     "output_type": "execute_result",
     "data": {
      "text/plain": [
       "      Sale ID  Index ITEM_CODE  EMP_ID Attribute  Year  Value\n",
       "0           1      2  PROD_001  EMP244       W00  2019     35\n",
       "1           2      4  PROD_002  EMP244       W00  2019     41\n",
       "2           3      6  PROD_003  EMP267       W00  2019     21\n",
       "3           4      8  PROD_001  EMP267       W00  2019     32\n",
       "4           5     10  PROD_004  EMP267       W00  2019     37\n",
       "...       ...    ...       ...     ...       ...   ...    ...\n",
       "8315     8316    152   ESP_008  EMP234       W09  2020      1\n",
       "8316     8317    154   ESP_008  EMP244       W09  2020      5\n",
       "8317     8318    156   ESP_008  EMP256       W09  2020      0\n",
       "8318     8319    158   ESP_008  EMP267       W09  2020     10\n",
       "8319     8320    160   ESP_008  EMP290       W09  2020      0\n",
       "\n",
       "[8320 rows x 7 columns]"
      ],
      "text/html": "<div>\n<style scoped>\n    .dataframe tbody tr th:only-of-type {\n        vertical-align: middle;\n    }\n\n    .dataframe tbody tr th {\n        vertical-align: top;\n    }\n\n    .dataframe thead th {\n        text-align: right;\n    }\n</style>\n<table border=\"1\" class=\"dataframe\">\n  <thead>\n    <tr style=\"text-align: right;\">\n      <th></th>\n      <th>Sale ID</th>\n      <th>Index</th>\n      <th>ITEM_CODE</th>\n      <th>EMP_ID</th>\n      <th>Attribute</th>\n      <th>Year</th>\n      <th>Value</th>\n    </tr>\n  </thead>\n  <tbody>\n    <tr>\n      <th>0</th>\n      <td>1</td>\n      <td>2</td>\n      <td>PROD_001</td>\n      <td>EMP244</td>\n      <td>W00</td>\n      <td>2019</td>\n      <td>35</td>\n    </tr>\n    <tr>\n      <th>1</th>\n      <td>2</td>\n      <td>4</td>\n      <td>PROD_002</td>\n      <td>EMP244</td>\n      <td>W00</td>\n      <td>2019</td>\n      <td>41</td>\n    </tr>\n    <tr>\n      <th>2</th>\n      <td>3</td>\n      <td>6</td>\n      <td>PROD_003</td>\n      <td>EMP267</td>\n      <td>W00</td>\n      <td>2019</td>\n      <td>21</td>\n    </tr>\n    <tr>\n      <th>3</th>\n      <td>4</td>\n      <td>8</td>\n      <td>PROD_001</td>\n      <td>EMP267</td>\n      <td>W00</td>\n      <td>2019</td>\n      <td>32</td>\n    </tr>\n    <tr>\n      <th>4</th>\n      <td>5</td>\n      <td>10</td>\n      <td>PROD_004</td>\n      <td>EMP267</td>\n      <td>W00</td>\n      <td>2019</td>\n      <td>37</td>\n    </tr>\n    <tr>\n      <th>...</th>\n      <td>...</td>\n      <td>...</td>\n      <td>...</td>\n      <td>...</td>\n      <td>...</td>\n      <td>...</td>\n      <td>...</td>\n    </tr>\n    <tr>\n      <th>8315</th>\n      <td>8316</td>\n      <td>152</td>\n      <td>ESP_008</td>\n      <td>EMP234</td>\n      <td>W09</td>\n      <td>2020</td>\n      <td>1</td>\n    </tr>\n    <tr>\n      <th>8316</th>\n      <td>8317</td>\n      <td>154</td>\n      <td>ESP_008</td>\n      <td>EMP244</td>\n      <td>W09</td>\n      <td>2020</td>\n      <td>5</td>\n    </tr>\n    <tr>\n      <th>8317</th>\n      <td>8318</td>\n      <td>156</td>\n      <td>ESP_008</td>\n      <td>EMP256</td>\n      <td>W09</td>\n      <td>2020</td>\n      <td>0</td>\n    </tr>\n    <tr>\n      <th>8318</th>\n      <td>8319</td>\n      <td>158</td>\n      <td>ESP_008</td>\n      <td>EMP267</td>\n      <td>W09</td>\n      <td>2020</td>\n      <td>10</td>\n    </tr>\n    <tr>\n      <th>8319</th>\n      <td>8320</td>\n      <td>160</td>\n      <td>ESP_008</td>\n      <td>EMP290</td>\n      <td>W09</td>\n      <td>2020</td>\n      <td>0</td>\n    </tr>\n  </tbody>\n</table>\n<p>8320 rows × 7 columns</p>\n</div>"
     },
     "metadata": {},
     "execution_count": 5
    }
   ],
   "source": [
    "product_sales_df = book.parse('Product Sales')\n",
    "product_sales_df"
   ]
  },
  {
   "cell_type": "code",
   "execution_count": 6,
   "metadata": {},
   "outputs": [
    {
     "output_type": "execute_result",
     "data": {
      "text/plain": [
       "     Sales Team Lead PayGrade Region  EMP_ID  Sale ID  Index ITEM_CODE  \\\n",
       "0        Evans, Gina      C12     NW  EMP244        1      2  PROD_001   \n",
       "1        Evans, Gina      C12     NW  EMP244        2      4  PROD_002   \n",
       "2        Evans, Gina      C12     NW  EMP244        8     16  PROD_003   \n",
       "3        Evans, Gina      C12     NW  EMP244       10     20  PROD_004   \n",
       "4        Evans, Gina      C12     NW  EMP244       13     26  PROD_005   \n",
       "...              ...      ...    ...     ...      ...    ...       ...   \n",
       "8315    Allen, Maude      C12     SW  EMP290     8300    120   ESP_004   \n",
       "8316    Allen, Maude      C12     SW  EMP290     8305    130   ESP_005   \n",
       "8317    Allen, Maude      C12     SW  EMP290     8310    140   ESP_006   \n",
       "8318    Allen, Maude      C12     SW  EMP290     8315    150   ESP_007   \n",
       "8319    Allen, Maude      C12     SW  EMP290     8320    160   ESP_008   \n",
       "\n",
       "     Attribute  Year  Value  \n",
       "0          W00  2019     35  \n",
       "1          W00  2019     41  \n",
       "2          W00  2019     27  \n",
       "3          W00  2019     43  \n",
       "4          W00  2019     40  \n",
       "...        ...   ...    ...  \n",
       "8315       W09  2020      0  \n",
       "8316       W09  2020      1  \n",
       "8317       W09  2020      2  \n",
       "8318       W09  2020      0  \n",
       "8319       W09  2020      0  \n",
       "\n",
       "[8320 rows x 10 columns]"
      ],
      "text/html": "<div>\n<style scoped>\n    .dataframe tbody tr th:only-of-type {\n        vertical-align: middle;\n    }\n\n    .dataframe tbody tr th {\n        vertical-align: top;\n    }\n\n    .dataframe thead th {\n        text-align: right;\n    }\n</style>\n<table border=\"1\" class=\"dataframe\">\n  <thead>\n    <tr style=\"text-align: right;\">\n      <th></th>\n      <th>Sales Team Lead</th>\n      <th>PayGrade</th>\n      <th>Region</th>\n      <th>EMP_ID</th>\n      <th>Sale ID</th>\n      <th>Index</th>\n      <th>ITEM_CODE</th>\n      <th>Attribute</th>\n      <th>Year</th>\n      <th>Value</th>\n    </tr>\n  </thead>\n  <tbody>\n    <tr>\n      <th>0</th>\n      <td>Evans, Gina</td>\n      <td>C12</td>\n      <td>NW</td>\n      <td>EMP244</td>\n      <td>1</td>\n      <td>2</td>\n      <td>PROD_001</td>\n      <td>W00</td>\n      <td>2019</td>\n      <td>35</td>\n    </tr>\n    <tr>\n      <th>1</th>\n      <td>Evans, Gina</td>\n      <td>C12</td>\n      <td>NW</td>\n      <td>EMP244</td>\n      <td>2</td>\n      <td>4</td>\n      <td>PROD_002</td>\n      <td>W00</td>\n      <td>2019</td>\n      <td>41</td>\n    </tr>\n    <tr>\n      <th>2</th>\n      <td>Evans, Gina</td>\n      <td>C12</td>\n      <td>NW</td>\n      <td>EMP244</td>\n      <td>8</td>\n      <td>16</td>\n      <td>PROD_003</td>\n      <td>W00</td>\n      <td>2019</td>\n      <td>27</td>\n    </tr>\n    <tr>\n      <th>3</th>\n      <td>Evans, Gina</td>\n      <td>C12</td>\n      <td>NW</td>\n      <td>EMP244</td>\n      <td>10</td>\n      <td>20</td>\n      <td>PROD_004</td>\n      <td>W00</td>\n      <td>2019</td>\n      <td>43</td>\n    </tr>\n    <tr>\n      <th>4</th>\n      <td>Evans, Gina</td>\n      <td>C12</td>\n      <td>NW</td>\n      <td>EMP244</td>\n      <td>13</td>\n      <td>26</td>\n      <td>PROD_005</td>\n      <td>W00</td>\n      <td>2019</td>\n      <td>40</td>\n    </tr>\n    <tr>\n      <th>...</th>\n      <td>...</td>\n      <td>...</td>\n      <td>...</td>\n      <td>...</td>\n      <td>...</td>\n      <td>...</td>\n      <td>...</td>\n      <td>...</td>\n      <td>...</td>\n      <td>...</td>\n    </tr>\n    <tr>\n      <th>8315</th>\n      <td>Allen, Maude</td>\n      <td>C12</td>\n      <td>SW</td>\n      <td>EMP290</td>\n      <td>8300</td>\n      <td>120</td>\n      <td>ESP_004</td>\n      <td>W09</td>\n      <td>2020</td>\n      <td>0</td>\n    </tr>\n    <tr>\n      <th>8316</th>\n      <td>Allen, Maude</td>\n      <td>C12</td>\n      <td>SW</td>\n      <td>EMP290</td>\n      <td>8305</td>\n      <td>130</td>\n      <td>ESP_005</td>\n      <td>W09</td>\n      <td>2020</td>\n      <td>1</td>\n    </tr>\n    <tr>\n      <th>8317</th>\n      <td>Allen, Maude</td>\n      <td>C12</td>\n      <td>SW</td>\n      <td>EMP290</td>\n      <td>8310</td>\n      <td>140</td>\n      <td>ESP_006</td>\n      <td>W09</td>\n      <td>2020</td>\n      <td>2</td>\n    </tr>\n    <tr>\n      <th>8318</th>\n      <td>Allen, Maude</td>\n      <td>C12</td>\n      <td>SW</td>\n      <td>EMP290</td>\n      <td>8315</td>\n      <td>150</td>\n      <td>ESP_007</td>\n      <td>W09</td>\n      <td>2020</td>\n      <td>0</td>\n    </tr>\n    <tr>\n      <th>8319</th>\n      <td>Allen, Maude</td>\n      <td>C12</td>\n      <td>SW</td>\n      <td>EMP290</td>\n      <td>8320</td>\n      <td>160</td>\n      <td>ESP_008</td>\n      <td>W09</td>\n      <td>2020</td>\n      <td>0</td>\n    </tr>\n  </tbody>\n</table>\n<p>8320 rows × 10 columns</p>\n</div>"
     },
     "metadata": {},
     "execution_count": 6
    }
   ],
   "source": [
    "sales_employees_df = pd.merge(employees_df, product_sales_df, how='left', on=['EMP_ID'])\n",
    "sales_employees_df"
   ]
  },
  {
   "source": [
    "### Group by Regions and Graphy to Validate"
   ],
   "cell_type": "markdown",
   "metadata": {}
  },
  {
   "cell_type": "code",
   "execution_count": 7,
   "metadata": {},
   "outputs": [
    {
     "output_type": "execute_result",
     "data": {
      "text/plain": [
       "     Region  Value\n",
       "0        NW     35\n",
       "1        NW     41\n",
       "2        NW     27\n",
       "3        NW     43\n",
       "4        NW     40\n",
       "...     ...    ...\n",
       "8315     SW      0\n",
       "8316     SW      1\n",
       "8317     SW      2\n",
       "8318     SW      0\n",
       "8319     SW      0\n",
       "\n",
       "[8320 rows x 2 columns]"
      ],
      "text/html": "<div>\n<style scoped>\n    .dataframe tbody tr th:only-of-type {\n        vertical-align: middle;\n    }\n\n    .dataframe tbody tr th {\n        vertical-align: top;\n    }\n\n    .dataframe thead th {\n        text-align: right;\n    }\n</style>\n<table border=\"1\" class=\"dataframe\">\n  <thead>\n    <tr style=\"text-align: right;\">\n      <th></th>\n      <th>Region</th>\n      <th>Value</th>\n    </tr>\n  </thead>\n  <tbody>\n    <tr>\n      <th>0</th>\n      <td>NW</td>\n      <td>35</td>\n    </tr>\n    <tr>\n      <th>1</th>\n      <td>NW</td>\n      <td>41</td>\n    </tr>\n    <tr>\n      <th>2</th>\n      <td>NW</td>\n      <td>27</td>\n    </tr>\n    <tr>\n      <th>3</th>\n      <td>NW</td>\n      <td>43</td>\n    </tr>\n    <tr>\n      <th>4</th>\n      <td>NW</td>\n      <td>40</td>\n    </tr>\n    <tr>\n      <th>...</th>\n      <td>...</td>\n      <td>...</td>\n    </tr>\n    <tr>\n      <th>8315</th>\n      <td>SW</td>\n      <td>0</td>\n    </tr>\n    <tr>\n      <th>8316</th>\n      <td>SW</td>\n      <td>1</td>\n    </tr>\n    <tr>\n      <th>8317</th>\n      <td>SW</td>\n      <td>2</td>\n    </tr>\n    <tr>\n      <th>8318</th>\n      <td>SW</td>\n      <td>0</td>\n    </tr>\n    <tr>\n      <th>8319</th>\n      <td>SW</td>\n      <td>0</td>\n    </tr>\n  </tbody>\n</table>\n<p>8320 rows × 2 columns</p>\n</div>"
     },
     "metadata": {},
     "execution_count": 7
    }
   ],
   "source": [
    "sales_by_region = pd.DataFrame(sales_employees_df, columns = ['Region', 'Value'])\n",
    "sales_by_region"
   ]
  },
  {
   "cell_type": "code",
   "execution_count": 8,
   "metadata": {},
   "outputs": [],
   "source": [
    "# sales_by_region.plot.bar(title = 'Sales by Region', xlabel = 'Region', ylabel='Sales Total')"
   ]
  },
  {
   "source": [
    "## Create sales by salesperson"
   ],
   "cell_type": "markdown",
   "metadata": {}
  },
  {
   "source": [
    "### Create table with employee ID, Region and value with added column as Employee with Region assigned (to build a storyline)"
   ],
   "cell_type": "markdown",
   "metadata": {}
  },
  {
   "cell_type": "code",
   "execution_count": 9,
   "metadata": {},
   "outputs": [
    {
     "output_type": "execute_result",
     "data": {
      "text/plain": [
       "      EMP_ID Region  Value   Employee\n",
       "0     EMP244     NW     35  EMP244 NW\n",
       "1     EMP244     NW     41  EMP244 NW\n",
       "2     EMP244     NW     27  EMP244 NW\n",
       "3     EMP244     NW     43  EMP244 NW\n",
       "4     EMP244     NW     40  EMP244 NW\n",
       "...      ...    ...    ...        ...\n",
       "8315  EMP290     SW      0  EMP290 SW\n",
       "8316  EMP290     SW      1  EMP290 SW\n",
       "8317  EMP290     SW      2  EMP290 SW\n",
       "8318  EMP290     SW      0  EMP290 SW\n",
       "8319  EMP290     SW      0  EMP290 SW\n",
       "\n",
       "[8320 rows x 4 columns]"
      ],
      "text/html": "<div>\n<style scoped>\n    .dataframe tbody tr th:only-of-type {\n        vertical-align: middle;\n    }\n\n    .dataframe tbody tr th {\n        vertical-align: top;\n    }\n\n    .dataframe thead th {\n        text-align: right;\n    }\n</style>\n<table border=\"1\" class=\"dataframe\">\n  <thead>\n    <tr style=\"text-align: right;\">\n      <th></th>\n      <th>EMP_ID</th>\n      <th>Region</th>\n      <th>Value</th>\n      <th>Employee</th>\n    </tr>\n  </thead>\n  <tbody>\n    <tr>\n      <th>0</th>\n      <td>EMP244</td>\n      <td>NW</td>\n      <td>35</td>\n      <td>EMP244 NW</td>\n    </tr>\n    <tr>\n      <th>1</th>\n      <td>EMP244</td>\n      <td>NW</td>\n      <td>41</td>\n      <td>EMP244 NW</td>\n    </tr>\n    <tr>\n      <th>2</th>\n      <td>EMP244</td>\n      <td>NW</td>\n      <td>27</td>\n      <td>EMP244 NW</td>\n    </tr>\n    <tr>\n      <th>3</th>\n      <td>EMP244</td>\n      <td>NW</td>\n      <td>43</td>\n      <td>EMP244 NW</td>\n    </tr>\n    <tr>\n      <th>4</th>\n      <td>EMP244</td>\n      <td>NW</td>\n      <td>40</td>\n      <td>EMP244 NW</td>\n    </tr>\n    <tr>\n      <th>...</th>\n      <td>...</td>\n      <td>...</td>\n      <td>...</td>\n      <td>...</td>\n    </tr>\n    <tr>\n      <th>8315</th>\n      <td>EMP290</td>\n      <td>SW</td>\n      <td>0</td>\n      <td>EMP290 SW</td>\n    </tr>\n    <tr>\n      <th>8316</th>\n      <td>EMP290</td>\n      <td>SW</td>\n      <td>1</td>\n      <td>EMP290 SW</td>\n    </tr>\n    <tr>\n      <th>8317</th>\n      <td>EMP290</td>\n      <td>SW</td>\n      <td>2</td>\n      <td>EMP290 SW</td>\n    </tr>\n    <tr>\n      <th>8318</th>\n      <td>EMP290</td>\n      <td>SW</td>\n      <td>0</td>\n      <td>EMP290 SW</td>\n    </tr>\n    <tr>\n      <th>8319</th>\n      <td>EMP290</td>\n      <td>SW</td>\n      <td>0</td>\n      <td>EMP290 SW</td>\n    </tr>\n  </tbody>\n</table>\n<p>8320 rows × 4 columns</p>\n</div>"
     },
     "metadata": {},
     "execution_count": 9
    }
   ],
   "source": [
    "sales_by_employee = pd.DataFrame(sales_employees_df, columns = ['EMP_ID', 'Region', 'Value'])\n",
    "sales_by_employee['Employee'] = sales_employees_df['EMP_ID'] + ' ' + sales_employees_df['Region']\n",
    "sales_by_employee"
   ]
  },
  {
   "source": [
    "### Obtain the total value of sales per 'Employee' column and chart to validate"
   ],
   "cell_type": "markdown",
   "metadata": {}
  },
  {
   "cell_type": "code",
   "execution_count": 10,
   "metadata": {},
   "outputs": [
    {
     "output_type": "execute_result",
     "data": {
      "text/plain": [
       "<AxesSubplot:title={'center':'Sales by Employee'}, xlabel='Employee Number', ylabel='Sales Total'>"
      ]
     },
     "metadata": {},
     "execution_count": 10
    },
    {
     "output_type": "display_data",
     "data": {
      "text/plain": "<Figure size 432x288 with 1 Axes>",
      "image/svg+xml": "<?xml version=\"1.0\" encoding=\"utf-8\" standalone=\"no\"?>\r\n<!DOCTYPE svg PUBLIC \"-//W3C//DTD SVG 1.1//EN\"\r\n  \"http://www.w3.org/Graphics/SVG/1.1/DTD/svg11.dtd\">\r\n<!-- Created with matplotlib (https://matplotlib.org/) -->\r\n<svg height=\"328.247187pt\" version=\"1.1\" viewBox=\"0 0 401.690625 328.247187\" width=\"401.690625pt\" xmlns=\"http://www.w3.org/2000/svg\" xmlns:xlink=\"http://www.w3.org/1999/xlink\">\r\n <metadata>\r\n  <rdf:RDF xmlns:cc=\"http://creativecommons.org/ns#\" xmlns:dc=\"http://purl.org/dc/elements/1.1/\" xmlns:rdf=\"http://www.w3.org/1999/02/22-rdf-syntax-ns#\">\r\n   <cc:Work>\r\n    <dc:type rdf:resource=\"http://purl.org/dc/dcmitype/StillImage\"/>\r\n    <dc:date>2021-04-11T17:43:25.979790</dc:date>\r\n    <dc:format>image/svg+xml</dc:format>\r\n    <dc:creator>\r\n     <cc:Agent>\r\n      <dc:title>Matplotlib v3.3.2, https://matplotlib.org/</dc:title>\r\n     </cc:Agent>\r\n    </dc:creator>\r\n   </cc:Work>\r\n  </rdf:RDF>\r\n </metadata>\r\n <defs>\r\n  <style type=\"text/css\">*{stroke-linecap:butt;stroke-linejoin:round;}</style>\r\n </defs>\r\n <g id=\"figure_1\">\r\n  <g id=\"patch_1\">\r\n   <path d=\"M 0 328.247187 \r\nL 401.690625 328.247187 \r\nL 401.690625 0 \r\nL 0 0 \r\nz\r\n\" style=\"fill:none;\"/>\r\n  </g>\r\n  <g id=\"axes_1\">\r\n   <g id=\"patch_2\">\r\n    <path d=\"M 59.690625 239.758125 \r\nL 394.490625 239.758125 \r\nL 394.490625 22.318125 \r\nL 59.690625 22.318125 \r\nz\r\n\" style=\"fill:#ffffff;\"/>\r\n   </g>\r\n   <g id=\"patch_3\">\r\n    <path clip-path=\"url(#p7b97902495)\" d=\"M 76.430625 239.758125 \r\nL 109.910625 239.758125 \r\nL 109.910625 32.672411 \r\nL 76.430625 32.672411 \r\nz\r\n\" style=\"fill:#1f77b4;\"/>\r\n   </g>\r\n   <g id=\"patch_4\">\r\n    <path clip-path=\"url(#p7b97902495)\" d=\"M 143.390625 239.758125 \r\nL 176.870625 239.758125 \r\nL 176.870625 33.696073 \r\nL 143.390625 33.696073 \r\nz\r\n\" style=\"fill:#1f77b4;\"/>\r\n   </g>\r\n   <g id=\"patch_5\">\r\n    <path clip-path=\"url(#p7b97902495)\" d=\"M 210.350625 239.758125 \r\nL 243.830625 239.758125 \r\nL 243.830625 94.223251 \r\nL 210.350625 94.223251 \r\nz\r\n\" style=\"fill:#1f77b4;\"/>\r\n   </g>\r\n   <g id=\"patch_6\">\r\n    <path clip-path=\"url(#p7b97902495)\" d=\"M 277.310625 239.758125 \r\nL 310.790625 239.758125 \r\nL 310.790625 143.858408 \r\nL 277.310625 143.858408 \r\nz\r\n\" style=\"fill:#1f77b4;\"/>\r\n   </g>\r\n   <g id=\"patch_7\">\r\n    <path clip-path=\"url(#p7b97902495)\" d=\"M 344.270625 239.758125 \r\nL 377.750625 239.758125 \r\nL 377.750625 176.222378 \r\nL 344.270625 176.222378 \r\nz\r\n\" style=\"fill:#1f77b4;\"/>\r\n   </g>\r\n   <g id=\"matplotlib.axis_1\">\r\n    <g id=\"xtick_1\">\r\n     <g id=\"line2d_1\">\r\n      <defs>\r\n       <path d=\"M 0 0 \r\nL 0 3.5 \r\n\" id=\"m1385b7ffe8\" style=\"stroke:#000000;stroke-width:0.8;\"/>\r\n      </defs>\r\n      <g>\r\n       <use style=\"stroke:#000000;stroke-width:0.8;\" x=\"93.170625\" xlink:href=\"#m1385b7ffe8\" y=\"239.758125\"/>\r\n      </g>\r\n     </g>\r\n     <g id=\"text_1\">\r\n      <!-- EMP244 NW -->\r\n      <g transform=\"translate(95.93 307.369062)rotate(-90)scale(0.1 -0.1)\">\r\n       <defs>\r\n        <path d=\"M 9.8125 72.90625 \r\nL 55.90625 72.90625 \r\nL 55.90625 64.59375 \r\nL 19.671875 64.59375 \r\nL 19.671875 43.015625 \r\nL 54.390625 43.015625 \r\nL 54.390625 34.71875 \r\nL 19.671875 34.71875 \r\nL 19.671875 8.296875 \r\nL 56.78125 8.296875 \r\nL 56.78125 0 \r\nL 9.8125 0 \r\nz\r\n\" id=\"DejaVuSans-69\"/>\r\n        <path d=\"M 9.8125 72.90625 \r\nL 24.515625 72.90625 \r\nL 43.109375 23.296875 \r\nL 61.8125 72.90625 \r\nL 76.515625 72.90625 \r\nL 76.515625 0 \r\nL 66.890625 0 \r\nL 66.890625 64.015625 \r\nL 48.09375 14.015625 \r\nL 38.1875 14.015625 \r\nL 19.390625 64.015625 \r\nL 19.390625 0 \r\nL 9.8125 0 \r\nz\r\n\" id=\"DejaVuSans-77\"/>\r\n        <path d=\"M 19.671875 64.796875 \r\nL 19.671875 37.40625 \r\nL 32.078125 37.40625 \r\nQ 38.96875 37.40625 42.71875 40.96875 \r\nQ 46.484375 44.53125 46.484375 51.125 \r\nQ 46.484375 57.671875 42.71875 61.234375 \r\nQ 38.96875 64.796875 32.078125 64.796875 \r\nz\r\nM 9.8125 72.90625 \r\nL 32.078125 72.90625 \r\nQ 44.34375 72.90625 50.609375 67.359375 \r\nQ 56.890625 61.8125 56.890625 51.125 \r\nQ 56.890625 40.328125 50.609375 34.8125 \r\nQ 44.34375 29.296875 32.078125 29.296875 \r\nL 19.671875 29.296875 \r\nL 19.671875 0 \r\nL 9.8125 0 \r\nz\r\n\" id=\"DejaVuSans-80\"/>\r\n        <path d=\"M 19.1875 8.296875 \r\nL 53.609375 8.296875 \r\nL 53.609375 0 \r\nL 7.328125 0 \r\nL 7.328125 8.296875 \r\nQ 12.9375 14.109375 22.625 23.890625 \r\nQ 32.328125 33.6875 34.8125 36.53125 \r\nQ 39.546875 41.84375 41.421875 45.53125 \r\nQ 43.3125 49.21875 43.3125 52.78125 \r\nQ 43.3125 58.59375 39.234375 62.25 \r\nQ 35.15625 65.921875 28.609375 65.921875 \r\nQ 23.96875 65.921875 18.8125 64.3125 \r\nQ 13.671875 62.703125 7.8125 59.421875 \r\nL 7.8125 69.390625 \r\nQ 13.765625 71.78125 18.9375 73 \r\nQ 24.125 74.21875 28.421875 74.21875 \r\nQ 39.75 74.21875 46.484375 68.546875 \r\nQ 53.21875 62.890625 53.21875 53.421875 \r\nQ 53.21875 48.921875 51.53125 44.890625 \r\nQ 49.859375 40.875 45.40625 35.40625 \r\nQ 44.1875 33.984375 37.640625 27.21875 \r\nQ 31.109375 20.453125 19.1875 8.296875 \r\nz\r\n\" id=\"DejaVuSans-50\"/>\r\n        <path d=\"M 37.796875 64.3125 \r\nL 12.890625 25.390625 \r\nL 37.796875 25.390625 \r\nz\r\nM 35.203125 72.90625 \r\nL 47.609375 72.90625 \r\nL 47.609375 25.390625 \r\nL 58.015625 25.390625 \r\nL 58.015625 17.1875 \r\nL 47.609375 17.1875 \r\nL 47.609375 0 \r\nL 37.796875 0 \r\nL 37.796875 17.1875 \r\nL 4.890625 17.1875 \r\nL 4.890625 26.703125 \r\nz\r\n\" id=\"DejaVuSans-52\"/>\r\n        <path id=\"DejaVuSans-32\"/>\r\n        <path d=\"M 9.8125 72.90625 \r\nL 23.09375 72.90625 \r\nL 55.421875 11.921875 \r\nL 55.421875 72.90625 \r\nL 64.984375 72.90625 \r\nL 64.984375 0 \r\nL 51.703125 0 \r\nL 19.390625 60.984375 \r\nL 19.390625 0 \r\nL 9.8125 0 \r\nz\r\n\" id=\"DejaVuSans-78\"/>\r\n        <path d=\"M 3.328125 72.90625 \r\nL 13.28125 72.90625 \r\nL 28.609375 11.28125 \r\nL 43.890625 72.90625 \r\nL 54.984375 72.90625 \r\nL 70.3125 11.28125 \r\nL 85.59375 72.90625 \r\nL 95.609375 72.90625 \r\nL 77.296875 0 \r\nL 64.890625 0 \r\nL 49.515625 63.28125 \r\nL 33.984375 0 \r\nL 21.578125 0 \r\nz\r\n\" id=\"DejaVuSans-87\"/>\r\n       </defs>\r\n       <use xlink:href=\"#DejaVuSans-69\"/>\r\n       <use x=\"63.183594\" xlink:href=\"#DejaVuSans-77\"/>\r\n       <use x=\"149.462891\" xlink:href=\"#DejaVuSans-80\"/>\r\n       <use x=\"209.765625\" xlink:href=\"#DejaVuSans-50\"/>\r\n       <use x=\"273.388672\" xlink:href=\"#DejaVuSans-52\"/>\r\n       <use x=\"337.011719\" xlink:href=\"#DejaVuSans-52\"/>\r\n       <use x=\"400.634766\" xlink:href=\"#DejaVuSans-32\"/>\r\n       <use x=\"432.421875\" xlink:href=\"#DejaVuSans-78\"/>\r\n       <use x=\"507.226562\" xlink:href=\"#DejaVuSans-87\"/>\r\n      </g>\r\n     </g>\r\n    </g>\r\n    <g id=\"xtick_2\">\r\n     <g id=\"line2d_2\">\r\n      <g>\r\n       <use style=\"stroke:#000000;stroke-width:0.8;\" x=\"160.130625\" xlink:href=\"#m1385b7ffe8\" y=\"239.758125\"/>\r\n      </g>\r\n     </g>\r\n     <g id=\"text_2\">\r\n      <!-- EMP267 SW -->\r\n      <g transform=\"translate(162.89 306.23625)rotate(-90)scale(0.1 -0.1)\">\r\n       <defs>\r\n        <path d=\"M 33.015625 40.375 \r\nQ 26.375 40.375 22.484375 35.828125 \r\nQ 18.609375 31.296875 18.609375 23.390625 \r\nQ 18.609375 15.53125 22.484375 10.953125 \r\nQ 26.375 6.390625 33.015625 6.390625 \r\nQ 39.65625 6.390625 43.53125 10.953125 \r\nQ 47.40625 15.53125 47.40625 23.390625 \r\nQ 47.40625 31.296875 43.53125 35.828125 \r\nQ 39.65625 40.375 33.015625 40.375 \r\nz\r\nM 52.59375 71.296875 \r\nL 52.59375 62.3125 \r\nQ 48.875 64.0625 45.09375 64.984375 \r\nQ 41.3125 65.921875 37.59375 65.921875 \r\nQ 27.828125 65.921875 22.671875 59.328125 \r\nQ 17.53125 52.734375 16.796875 39.40625 \r\nQ 19.671875 43.65625 24.015625 45.921875 \r\nQ 28.375 48.1875 33.59375 48.1875 \r\nQ 44.578125 48.1875 50.953125 41.515625 \r\nQ 57.328125 34.859375 57.328125 23.390625 \r\nQ 57.328125 12.15625 50.6875 5.359375 \r\nQ 44.046875 -1.421875 33.015625 -1.421875 \r\nQ 20.359375 -1.421875 13.671875 8.265625 \r\nQ 6.984375 17.96875 6.984375 36.375 \r\nQ 6.984375 53.65625 15.1875 63.9375 \r\nQ 23.390625 74.21875 37.203125 74.21875 \r\nQ 40.921875 74.21875 44.703125 73.484375 \r\nQ 48.484375 72.75 52.59375 71.296875 \r\nz\r\n\" id=\"DejaVuSans-54\"/>\r\n        <path d=\"M 8.203125 72.90625 \r\nL 55.078125 72.90625 \r\nL 55.078125 68.703125 \r\nL 28.609375 0 \r\nL 18.3125 0 \r\nL 43.21875 64.59375 \r\nL 8.203125 64.59375 \r\nz\r\n\" id=\"DejaVuSans-55\"/>\r\n        <path d=\"M 53.515625 70.515625 \r\nL 53.515625 60.890625 \r\nQ 47.90625 63.578125 42.921875 64.890625 \r\nQ 37.9375 66.21875 33.296875 66.21875 \r\nQ 25.25 66.21875 20.875 63.09375 \r\nQ 16.5 59.96875 16.5 54.203125 \r\nQ 16.5 49.359375 19.40625 46.890625 \r\nQ 22.3125 44.4375 30.421875 42.921875 \r\nL 36.375 41.703125 \r\nQ 47.40625 39.59375 52.65625 34.296875 \r\nQ 57.90625 29 57.90625 20.125 \r\nQ 57.90625 9.515625 50.796875 4.046875 \r\nQ 43.703125 -1.421875 29.984375 -1.421875 \r\nQ 24.8125 -1.421875 18.96875 -0.25 \r\nQ 13.140625 0.921875 6.890625 3.21875 \r\nL 6.890625 13.375 \r\nQ 12.890625 10.015625 18.65625 8.296875 \r\nQ 24.421875 6.59375 29.984375 6.59375 \r\nQ 38.421875 6.59375 43.015625 9.90625 \r\nQ 47.609375 13.234375 47.609375 19.390625 \r\nQ 47.609375 24.75 44.3125 27.78125 \r\nQ 41.015625 30.8125 33.5 32.328125 \r\nL 27.484375 33.5 \r\nQ 16.453125 35.6875 11.515625 40.375 \r\nQ 6.59375 45.0625 6.59375 53.421875 \r\nQ 6.59375 63.09375 13.40625 68.65625 \r\nQ 20.21875 74.21875 32.171875 74.21875 \r\nQ 37.3125 74.21875 42.625 73.28125 \r\nQ 47.953125 72.359375 53.515625 70.515625 \r\nz\r\n\" id=\"DejaVuSans-83\"/>\r\n       </defs>\r\n       <use xlink:href=\"#DejaVuSans-69\"/>\r\n       <use x=\"63.183594\" xlink:href=\"#DejaVuSans-77\"/>\r\n       <use x=\"149.462891\" xlink:href=\"#DejaVuSans-80\"/>\r\n       <use x=\"209.765625\" xlink:href=\"#DejaVuSans-50\"/>\r\n       <use x=\"273.388672\" xlink:href=\"#DejaVuSans-54\"/>\r\n       <use x=\"337.011719\" xlink:href=\"#DejaVuSans-55\"/>\r\n       <use x=\"400.634766\" xlink:href=\"#DejaVuSans-32\"/>\r\n       <use x=\"432.421875\" xlink:href=\"#DejaVuSans-83\"/>\r\n       <use x=\"495.898438\" xlink:href=\"#DejaVuSans-87\"/>\r\n      </g>\r\n     </g>\r\n    </g>\r\n    <g id=\"xtick_3\">\r\n     <g id=\"line2d_3\">\r\n      <g>\r\n       <use style=\"stroke:#000000;stroke-width:0.8;\" x=\"227.090625\" xlink:href=\"#m1385b7ffe8\" y=\"239.758125\"/>\r\n      </g>\r\n     </g>\r\n     <g id=\"text_3\">\r\n      <!-- EMP234 NW -->\r\n      <g transform=\"translate(229.85 307.369062)rotate(-90)scale(0.1 -0.1)\">\r\n       <defs>\r\n        <path d=\"M 40.578125 39.3125 \r\nQ 47.65625 37.796875 51.625 33 \r\nQ 55.609375 28.21875 55.609375 21.1875 \r\nQ 55.609375 10.40625 48.1875 4.484375 \r\nQ 40.765625 -1.421875 27.09375 -1.421875 \r\nQ 22.515625 -1.421875 17.65625 -0.515625 \r\nQ 12.796875 0.390625 7.625 2.203125 \r\nL 7.625 11.71875 \r\nQ 11.71875 9.328125 16.59375 8.109375 \r\nQ 21.484375 6.890625 26.8125 6.890625 \r\nQ 36.078125 6.890625 40.9375 10.546875 \r\nQ 45.796875 14.203125 45.796875 21.1875 \r\nQ 45.796875 27.640625 41.28125 31.265625 \r\nQ 36.765625 34.90625 28.71875 34.90625 \r\nL 20.21875 34.90625 \r\nL 20.21875 43.015625 \r\nL 29.109375 43.015625 \r\nQ 36.375 43.015625 40.234375 45.921875 \r\nQ 44.09375 48.828125 44.09375 54.296875 \r\nQ 44.09375 59.90625 40.109375 62.90625 \r\nQ 36.140625 65.921875 28.71875 65.921875 \r\nQ 24.65625 65.921875 20.015625 65.03125 \r\nQ 15.375 64.15625 9.8125 62.3125 \r\nL 9.8125 71.09375 \r\nQ 15.4375 72.65625 20.34375 73.4375 \r\nQ 25.25 74.21875 29.59375 74.21875 \r\nQ 40.828125 74.21875 47.359375 69.109375 \r\nQ 53.90625 64.015625 53.90625 55.328125 \r\nQ 53.90625 49.265625 50.4375 45.09375 \r\nQ 46.96875 40.921875 40.578125 39.3125 \r\nz\r\n\" id=\"DejaVuSans-51\"/>\r\n       </defs>\r\n       <use xlink:href=\"#DejaVuSans-69\"/>\r\n       <use x=\"63.183594\" xlink:href=\"#DejaVuSans-77\"/>\r\n       <use x=\"149.462891\" xlink:href=\"#DejaVuSans-80\"/>\r\n       <use x=\"209.765625\" xlink:href=\"#DejaVuSans-50\"/>\r\n       <use x=\"273.388672\" xlink:href=\"#DejaVuSans-51\"/>\r\n       <use x=\"337.011719\" xlink:href=\"#DejaVuSans-52\"/>\r\n       <use x=\"400.634766\" xlink:href=\"#DejaVuSans-32\"/>\r\n       <use x=\"432.421875\" xlink:href=\"#DejaVuSans-78\"/>\r\n       <use x=\"507.226562\" xlink:href=\"#DejaVuSans-87\"/>\r\n      </g>\r\n     </g>\r\n    </g>\r\n    <g id=\"xtick_4\">\r\n     <g id=\"line2d_4\">\r\n      <g>\r\n       <use style=\"stroke:#000000;stroke-width:0.8;\" x=\"294.050625\" xlink:href=\"#m1385b7ffe8\" y=\"239.758125\"/>\r\n      </g>\r\n     </g>\r\n     <g id=\"text_4\">\r\n      <!-- EMP256 NW -->\r\n      <g transform=\"translate(296.81 307.369062)rotate(-90)scale(0.1 -0.1)\">\r\n       <defs>\r\n        <path d=\"M 10.796875 72.90625 \r\nL 49.515625 72.90625 \r\nL 49.515625 64.59375 \r\nL 19.828125 64.59375 \r\nL 19.828125 46.734375 \r\nQ 21.96875 47.46875 24.109375 47.828125 \r\nQ 26.265625 48.1875 28.421875 48.1875 \r\nQ 40.625 48.1875 47.75 41.5 \r\nQ 54.890625 34.8125 54.890625 23.390625 \r\nQ 54.890625 11.625 47.5625 5.09375 \r\nQ 40.234375 -1.421875 26.90625 -1.421875 \r\nQ 22.3125 -1.421875 17.546875 -0.640625 \r\nQ 12.796875 0.140625 7.71875 1.703125 \r\nL 7.71875 11.625 \r\nQ 12.109375 9.234375 16.796875 8.0625 \r\nQ 21.484375 6.890625 26.703125 6.890625 \r\nQ 35.15625 6.890625 40.078125 11.328125 \r\nQ 45.015625 15.765625 45.015625 23.390625 \r\nQ 45.015625 31 40.078125 35.4375 \r\nQ 35.15625 39.890625 26.703125 39.890625 \r\nQ 22.75 39.890625 18.8125 39.015625 \r\nQ 14.890625 38.140625 10.796875 36.28125 \r\nz\r\n\" id=\"DejaVuSans-53\"/>\r\n       </defs>\r\n       <use xlink:href=\"#DejaVuSans-69\"/>\r\n       <use x=\"63.183594\" xlink:href=\"#DejaVuSans-77\"/>\r\n       <use x=\"149.462891\" xlink:href=\"#DejaVuSans-80\"/>\r\n       <use x=\"209.765625\" xlink:href=\"#DejaVuSans-50\"/>\r\n       <use x=\"273.388672\" xlink:href=\"#DejaVuSans-53\"/>\r\n       <use x=\"337.011719\" xlink:href=\"#DejaVuSans-54\"/>\r\n       <use x=\"400.634766\" xlink:href=\"#DejaVuSans-32\"/>\r\n       <use x=\"432.421875\" xlink:href=\"#DejaVuSans-78\"/>\r\n       <use x=\"507.226562\" xlink:href=\"#DejaVuSans-87\"/>\r\n      </g>\r\n     </g>\r\n    </g>\r\n    <g id=\"xtick_5\">\r\n     <g id=\"line2d_5\">\r\n      <g>\r\n       <use style=\"stroke:#000000;stroke-width:0.8;\" x=\"361.010625\" xlink:href=\"#m1385b7ffe8\" y=\"239.758125\"/>\r\n      </g>\r\n     </g>\r\n     <g id=\"text_5\">\r\n      <!-- EMP290 SW -->\r\n      <g transform=\"translate(363.77 306.23625)rotate(-90)scale(0.1 -0.1)\">\r\n       <defs>\r\n        <path d=\"M 10.984375 1.515625 \r\nL 10.984375 10.5 \r\nQ 14.703125 8.734375 18.5 7.8125 \r\nQ 22.3125 6.890625 25.984375 6.890625 \r\nQ 35.75 6.890625 40.890625 13.453125 \r\nQ 46.046875 20.015625 46.78125 33.40625 \r\nQ 43.953125 29.203125 39.59375 26.953125 \r\nQ 35.25 24.703125 29.984375 24.703125 \r\nQ 19.046875 24.703125 12.671875 31.3125 \r\nQ 6.296875 37.9375 6.296875 49.421875 \r\nQ 6.296875 60.640625 12.9375 67.421875 \r\nQ 19.578125 74.21875 30.609375 74.21875 \r\nQ 43.265625 74.21875 49.921875 64.515625 \r\nQ 56.59375 54.828125 56.59375 36.375 \r\nQ 56.59375 19.140625 48.40625 8.859375 \r\nQ 40.234375 -1.421875 26.421875 -1.421875 \r\nQ 22.703125 -1.421875 18.890625 -0.6875 \r\nQ 15.09375 0.046875 10.984375 1.515625 \r\nz\r\nM 30.609375 32.421875 \r\nQ 37.25 32.421875 41.125 36.953125 \r\nQ 45.015625 41.5 45.015625 49.421875 \r\nQ 45.015625 57.28125 41.125 61.84375 \r\nQ 37.25 66.40625 30.609375 66.40625 \r\nQ 23.96875 66.40625 20.09375 61.84375 \r\nQ 16.21875 57.28125 16.21875 49.421875 \r\nQ 16.21875 41.5 20.09375 36.953125 \r\nQ 23.96875 32.421875 30.609375 32.421875 \r\nz\r\n\" id=\"DejaVuSans-57\"/>\r\n        <path d=\"M 31.78125 66.40625 \r\nQ 24.171875 66.40625 20.328125 58.90625 \r\nQ 16.5 51.421875 16.5 36.375 \r\nQ 16.5 21.390625 20.328125 13.890625 \r\nQ 24.171875 6.390625 31.78125 6.390625 \r\nQ 39.453125 6.390625 43.28125 13.890625 \r\nQ 47.125 21.390625 47.125 36.375 \r\nQ 47.125 51.421875 43.28125 58.90625 \r\nQ 39.453125 66.40625 31.78125 66.40625 \r\nz\r\nM 31.78125 74.21875 \r\nQ 44.046875 74.21875 50.515625 64.515625 \r\nQ 56.984375 54.828125 56.984375 36.375 \r\nQ 56.984375 17.96875 50.515625 8.265625 \r\nQ 44.046875 -1.421875 31.78125 -1.421875 \r\nQ 19.53125 -1.421875 13.0625 8.265625 \r\nQ 6.59375 17.96875 6.59375 36.375 \r\nQ 6.59375 54.828125 13.0625 64.515625 \r\nQ 19.53125 74.21875 31.78125 74.21875 \r\nz\r\n\" id=\"DejaVuSans-48\"/>\r\n       </defs>\r\n       <use xlink:href=\"#DejaVuSans-69\"/>\r\n       <use x=\"63.183594\" xlink:href=\"#DejaVuSans-77\"/>\r\n       <use x=\"149.462891\" xlink:href=\"#DejaVuSans-80\"/>\r\n       <use x=\"209.765625\" xlink:href=\"#DejaVuSans-50\"/>\r\n       <use x=\"273.388672\" xlink:href=\"#DejaVuSans-57\"/>\r\n       <use x=\"337.011719\" xlink:href=\"#DejaVuSans-48\"/>\r\n       <use x=\"400.634766\" xlink:href=\"#DejaVuSans-32\"/>\r\n       <use x=\"432.421875\" xlink:href=\"#DejaVuSans-83\"/>\r\n       <use x=\"495.898438\" xlink:href=\"#DejaVuSans-87\"/>\r\n      </g>\r\n     </g>\r\n    </g>\r\n    <g id=\"text_6\">\r\n     <!-- Employee Number -->\r\n     <g transform=\"translate(180.650781 318.9675)scale(0.1 -0.1)\">\r\n      <defs>\r\n       <path d=\"M 52 44.1875 \r\nQ 55.375 50.25 60.0625 53.125 \r\nQ 64.75 56 71.09375 56 \r\nQ 79.640625 56 84.28125 50.015625 \r\nQ 88.921875 44.046875 88.921875 33.015625 \r\nL 88.921875 0 \r\nL 79.890625 0 \r\nL 79.890625 32.71875 \r\nQ 79.890625 40.578125 77.09375 44.375 \r\nQ 74.3125 48.1875 68.609375 48.1875 \r\nQ 61.625 48.1875 57.5625 43.546875 \r\nQ 53.515625 38.921875 53.515625 30.90625 \r\nL 53.515625 0 \r\nL 44.484375 0 \r\nL 44.484375 32.71875 \r\nQ 44.484375 40.625 41.703125 44.40625 \r\nQ 38.921875 48.1875 33.109375 48.1875 \r\nQ 26.21875 48.1875 22.15625 43.53125 \r\nQ 18.109375 38.875 18.109375 30.90625 \r\nL 18.109375 0 \r\nL 9.078125 0 \r\nL 9.078125 54.6875 \r\nL 18.109375 54.6875 \r\nL 18.109375 46.1875 \r\nQ 21.1875 51.21875 25.484375 53.609375 \r\nQ 29.78125 56 35.6875 56 \r\nQ 41.65625 56 45.828125 52.96875 \r\nQ 50 49.953125 52 44.1875 \r\nz\r\n\" id=\"DejaVuSans-109\"/>\r\n       <path d=\"M 18.109375 8.203125 \r\nL 18.109375 -20.796875 \r\nL 9.078125 -20.796875 \r\nL 9.078125 54.6875 \r\nL 18.109375 54.6875 \r\nL 18.109375 46.390625 \r\nQ 20.953125 51.265625 25.265625 53.625 \r\nQ 29.59375 56 35.59375 56 \r\nQ 45.5625 56 51.78125 48.09375 \r\nQ 58.015625 40.1875 58.015625 27.296875 \r\nQ 58.015625 14.40625 51.78125 6.484375 \r\nQ 45.5625 -1.421875 35.59375 -1.421875 \r\nQ 29.59375 -1.421875 25.265625 0.953125 \r\nQ 20.953125 3.328125 18.109375 8.203125 \r\nz\r\nM 48.6875 27.296875 \r\nQ 48.6875 37.203125 44.609375 42.84375 \r\nQ 40.53125 48.484375 33.40625 48.484375 \r\nQ 26.265625 48.484375 22.1875 42.84375 \r\nQ 18.109375 37.203125 18.109375 27.296875 \r\nQ 18.109375 17.390625 22.1875 11.75 \r\nQ 26.265625 6.109375 33.40625 6.109375 \r\nQ 40.53125 6.109375 44.609375 11.75 \r\nQ 48.6875 17.390625 48.6875 27.296875 \r\nz\r\n\" id=\"DejaVuSans-112\"/>\r\n       <path d=\"M 9.421875 75.984375 \r\nL 18.40625 75.984375 \r\nL 18.40625 0 \r\nL 9.421875 0 \r\nz\r\n\" id=\"DejaVuSans-108\"/>\r\n       <path d=\"M 30.609375 48.390625 \r\nQ 23.390625 48.390625 19.1875 42.75 \r\nQ 14.984375 37.109375 14.984375 27.296875 \r\nQ 14.984375 17.484375 19.15625 11.84375 \r\nQ 23.34375 6.203125 30.609375 6.203125 \r\nQ 37.796875 6.203125 41.984375 11.859375 \r\nQ 46.1875 17.53125 46.1875 27.296875 \r\nQ 46.1875 37.015625 41.984375 42.703125 \r\nQ 37.796875 48.390625 30.609375 48.390625 \r\nz\r\nM 30.609375 56 \r\nQ 42.328125 56 49.015625 48.375 \r\nQ 55.71875 40.765625 55.71875 27.296875 \r\nQ 55.71875 13.875 49.015625 6.21875 \r\nQ 42.328125 -1.421875 30.609375 -1.421875 \r\nQ 18.84375 -1.421875 12.171875 6.21875 \r\nQ 5.515625 13.875 5.515625 27.296875 \r\nQ 5.515625 40.765625 12.171875 48.375 \r\nQ 18.84375 56 30.609375 56 \r\nz\r\n\" id=\"DejaVuSans-111\"/>\r\n       <path d=\"M 32.171875 -5.078125 \r\nQ 28.375 -14.84375 24.75 -17.8125 \r\nQ 21.140625 -20.796875 15.09375 -20.796875 \r\nL 7.90625 -20.796875 \r\nL 7.90625 -13.28125 \r\nL 13.1875 -13.28125 \r\nQ 16.890625 -13.28125 18.9375 -11.515625 \r\nQ 21 -9.765625 23.484375 -3.21875 \r\nL 25.09375 0.875 \r\nL 2.984375 54.6875 \r\nL 12.5 54.6875 \r\nL 29.59375 11.921875 \r\nL 46.6875 54.6875 \r\nL 56.203125 54.6875 \r\nz\r\n\" id=\"DejaVuSans-121\"/>\r\n       <path d=\"M 56.203125 29.59375 \r\nL 56.203125 25.203125 \r\nL 14.890625 25.203125 \r\nQ 15.484375 15.921875 20.484375 11.0625 \r\nQ 25.484375 6.203125 34.421875 6.203125 \r\nQ 39.59375 6.203125 44.453125 7.46875 \r\nQ 49.3125 8.734375 54.109375 11.28125 \r\nL 54.109375 2.78125 \r\nQ 49.265625 0.734375 44.1875 -0.34375 \r\nQ 39.109375 -1.421875 33.890625 -1.421875 \r\nQ 20.796875 -1.421875 13.15625 6.1875 \r\nQ 5.515625 13.8125 5.515625 26.8125 \r\nQ 5.515625 40.234375 12.765625 48.109375 \r\nQ 20.015625 56 32.328125 56 \r\nQ 43.359375 56 49.78125 48.890625 \r\nQ 56.203125 41.796875 56.203125 29.59375 \r\nz\r\nM 47.21875 32.234375 \r\nQ 47.125 39.59375 43.09375 43.984375 \r\nQ 39.0625 48.390625 32.421875 48.390625 \r\nQ 24.90625 48.390625 20.390625 44.140625 \r\nQ 15.875 39.890625 15.1875 32.171875 \r\nz\r\n\" id=\"DejaVuSans-101\"/>\r\n       <path d=\"M 8.5 21.578125 \r\nL 8.5 54.6875 \r\nL 17.484375 54.6875 \r\nL 17.484375 21.921875 \r\nQ 17.484375 14.15625 20.5 10.265625 \r\nQ 23.53125 6.390625 29.59375 6.390625 \r\nQ 36.859375 6.390625 41.078125 11.03125 \r\nQ 45.3125 15.671875 45.3125 23.6875 \r\nL 45.3125 54.6875 \r\nL 54.296875 54.6875 \r\nL 54.296875 0 \r\nL 45.3125 0 \r\nL 45.3125 8.40625 \r\nQ 42.046875 3.421875 37.71875 1 \r\nQ 33.40625 -1.421875 27.6875 -1.421875 \r\nQ 18.265625 -1.421875 13.375 4.4375 \r\nQ 8.5 10.296875 8.5 21.578125 \r\nz\r\nM 31.109375 56 \r\nz\r\n\" id=\"DejaVuSans-117\"/>\r\n       <path d=\"M 48.6875 27.296875 \r\nQ 48.6875 37.203125 44.609375 42.84375 \r\nQ 40.53125 48.484375 33.40625 48.484375 \r\nQ 26.265625 48.484375 22.1875 42.84375 \r\nQ 18.109375 37.203125 18.109375 27.296875 \r\nQ 18.109375 17.390625 22.1875 11.75 \r\nQ 26.265625 6.109375 33.40625 6.109375 \r\nQ 40.53125 6.109375 44.609375 11.75 \r\nQ 48.6875 17.390625 48.6875 27.296875 \r\nz\r\nM 18.109375 46.390625 \r\nQ 20.953125 51.265625 25.265625 53.625 \r\nQ 29.59375 56 35.59375 56 \r\nQ 45.5625 56 51.78125 48.09375 \r\nQ 58.015625 40.1875 58.015625 27.296875 \r\nQ 58.015625 14.40625 51.78125 6.484375 \r\nQ 45.5625 -1.421875 35.59375 -1.421875 \r\nQ 29.59375 -1.421875 25.265625 0.953125 \r\nQ 20.953125 3.328125 18.109375 8.203125 \r\nL 18.109375 0 \r\nL 9.078125 0 \r\nL 9.078125 75.984375 \r\nL 18.109375 75.984375 \r\nz\r\n\" id=\"DejaVuSans-98\"/>\r\n       <path d=\"M 41.109375 46.296875 \r\nQ 39.59375 47.171875 37.8125 47.578125 \r\nQ 36.03125 48 33.890625 48 \r\nQ 26.265625 48 22.1875 43.046875 \r\nQ 18.109375 38.09375 18.109375 28.8125 \r\nL 18.109375 0 \r\nL 9.078125 0 \r\nL 9.078125 54.6875 \r\nL 18.109375 54.6875 \r\nL 18.109375 46.1875 \r\nQ 20.953125 51.171875 25.484375 53.578125 \r\nQ 30.03125 56 36.53125 56 \r\nQ 37.453125 56 38.578125 55.875 \r\nQ 39.703125 55.765625 41.0625 55.515625 \r\nz\r\n\" id=\"DejaVuSans-114\"/>\r\n      </defs>\r\n      <use xlink:href=\"#DejaVuSans-69\"/>\r\n      <use x=\"63.183594\" xlink:href=\"#DejaVuSans-109\"/>\r\n      <use x=\"160.595703\" xlink:href=\"#DejaVuSans-112\"/>\r\n      <use x=\"224.072266\" xlink:href=\"#DejaVuSans-108\"/>\r\n      <use x=\"251.855469\" xlink:href=\"#DejaVuSans-111\"/>\r\n      <use x=\"313.037109\" xlink:href=\"#DejaVuSans-121\"/>\r\n      <use x=\"372.216797\" xlink:href=\"#DejaVuSans-101\"/>\r\n      <use x=\"433.740234\" xlink:href=\"#DejaVuSans-101\"/>\r\n      <use x=\"495.263672\" xlink:href=\"#DejaVuSans-32\"/>\r\n      <use x=\"527.050781\" xlink:href=\"#DejaVuSans-78\"/>\r\n      <use x=\"601.855469\" xlink:href=\"#DejaVuSans-117\"/>\r\n      <use x=\"665.234375\" xlink:href=\"#DejaVuSans-109\"/>\r\n      <use x=\"762.646484\" xlink:href=\"#DejaVuSans-98\"/>\r\n      <use x=\"826.123047\" xlink:href=\"#DejaVuSans-101\"/>\r\n      <use x=\"887.646484\" xlink:href=\"#DejaVuSans-114\"/>\r\n     </g>\r\n    </g>\r\n   </g>\r\n   <g id=\"matplotlib.axis_2\">\r\n    <g id=\"ytick_1\">\r\n     <g id=\"line2d_6\">\r\n      <defs>\r\n       <path d=\"M 0 0 \r\nL -3.5 0 \r\n\" id=\"m3aed48b4ac\" style=\"stroke:#000000;stroke-width:0.8;\"/>\r\n      </defs>\r\n      <g>\r\n       <use style=\"stroke:#000000;stroke-width:0.8;\" x=\"59.690625\" xlink:href=\"#m3aed48b4ac\" y=\"239.758125\"/>\r\n      </g>\r\n     </g>\r\n     <g id=\"text_7\">\r\n      <!-- 0 -->\r\n      <g transform=\"translate(46.328125 243.557344)scale(0.1 -0.1)\">\r\n       <use xlink:href=\"#DejaVuSans-48\"/>\r\n      </g>\r\n     </g>\r\n    </g>\r\n    <g id=\"ytick_2\">\r\n     <g id=\"line2d_7\">\r\n      <g>\r\n       <use style=\"stroke:#000000;stroke-width:0.8;\" x=\"59.690625\" xlink:href=\"#m3aed48b4ac\" y=\"208.548897\"/>\r\n      </g>\r\n     </g>\r\n     <g id=\"text_8\">\r\n      <!-- 5000 -->\r\n      <g transform=\"translate(27.240625 212.348115)scale(0.1 -0.1)\">\r\n       <use xlink:href=\"#DejaVuSans-53\"/>\r\n       <use x=\"63.623047\" xlink:href=\"#DejaVuSans-48\"/>\r\n       <use x=\"127.246094\" xlink:href=\"#DejaVuSans-48\"/>\r\n       <use x=\"190.869141\" xlink:href=\"#DejaVuSans-48\"/>\r\n      </g>\r\n     </g>\r\n    </g>\r\n    <g id=\"ytick_3\">\r\n     <g id=\"line2d_8\">\r\n      <g>\r\n       <use style=\"stroke:#000000;stroke-width:0.8;\" x=\"59.690625\" xlink:href=\"#m3aed48b4ac\" y=\"177.339668\"/>\r\n      </g>\r\n     </g>\r\n     <g id=\"text_9\">\r\n      <!-- 10000 -->\r\n      <g transform=\"translate(20.878125 181.138887)scale(0.1 -0.1)\">\r\n       <defs>\r\n        <path d=\"M 12.40625 8.296875 \r\nL 28.515625 8.296875 \r\nL 28.515625 63.921875 \r\nL 10.984375 60.40625 \r\nL 10.984375 69.390625 \r\nL 28.421875 72.90625 \r\nL 38.28125 72.90625 \r\nL 38.28125 8.296875 \r\nL 54.390625 8.296875 \r\nL 54.390625 0 \r\nL 12.40625 0 \r\nz\r\n\" id=\"DejaVuSans-49\"/>\r\n       </defs>\r\n       <use xlink:href=\"#DejaVuSans-49\"/>\r\n       <use x=\"63.623047\" xlink:href=\"#DejaVuSans-48\"/>\r\n       <use x=\"127.246094\" xlink:href=\"#DejaVuSans-48\"/>\r\n       <use x=\"190.869141\" xlink:href=\"#DejaVuSans-48\"/>\r\n       <use x=\"254.492188\" xlink:href=\"#DejaVuSans-48\"/>\r\n      </g>\r\n     </g>\r\n    </g>\r\n    <g id=\"ytick_4\">\r\n     <g id=\"line2d_9\">\r\n      <g>\r\n       <use style=\"stroke:#000000;stroke-width:0.8;\" x=\"59.690625\" xlink:href=\"#m3aed48b4ac\" y=\"146.13044\"/>\r\n      </g>\r\n     </g>\r\n     <g id=\"text_10\">\r\n      <!-- 15000 -->\r\n      <g transform=\"translate(20.878125 149.929658)scale(0.1 -0.1)\">\r\n       <use xlink:href=\"#DejaVuSans-49\"/>\r\n       <use x=\"63.623047\" xlink:href=\"#DejaVuSans-53\"/>\r\n       <use x=\"127.246094\" xlink:href=\"#DejaVuSans-48\"/>\r\n       <use x=\"190.869141\" xlink:href=\"#DejaVuSans-48\"/>\r\n       <use x=\"254.492188\" xlink:href=\"#DejaVuSans-48\"/>\r\n      </g>\r\n     </g>\r\n    </g>\r\n    <g id=\"ytick_5\">\r\n     <g id=\"line2d_10\">\r\n      <g>\r\n       <use style=\"stroke:#000000;stroke-width:0.8;\" x=\"59.690625\" xlink:href=\"#m3aed48b4ac\" y=\"114.921211\"/>\r\n      </g>\r\n     </g>\r\n     <g id=\"text_11\">\r\n      <!-- 20000 -->\r\n      <g transform=\"translate(20.878125 118.72043)scale(0.1 -0.1)\">\r\n       <use xlink:href=\"#DejaVuSans-50\"/>\r\n       <use x=\"63.623047\" xlink:href=\"#DejaVuSans-48\"/>\r\n       <use x=\"127.246094\" xlink:href=\"#DejaVuSans-48\"/>\r\n       <use x=\"190.869141\" xlink:href=\"#DejaVuSans-48\"/>\r\n       <use x=\"254.492188\" xlink:href=\"#DejaVuSans-48\"/>\r\n      </g>\r\n     </g>\r\n    </g>\r\n    <g id=\"ytick_6\">\r\n     <g id=\"line2d_11\">\r\n      <g>\r\n       <use style=\"stroke:#000000;stroke-width:0.8;\" x=\"59.690625\" xlink:href=\"#m3aed48b4ac\" y=\"83.711983\"/>\r\n      </g>\r\n     </g>\r\n     <g id=\"text_12\">\r\n      <!-- 25000 -->\r\n      <g transform=\"translate(20.878125 87.511202)scale(0.1 -0.1)\">\r\n       <use xlink:href=\"#DejaVuSans-50\"/>\r\n       <use x=\"63.623047\" xlink:href=\"#DejaVuSans-53\"/>\r\n       <use x=\"127.246094\" xlink:href=\"#DejaVuSans-48\"/>\r\n       <use x=\"190.869141\" xlink:href=\"#DejaVuSans-48\"/>\r\n       <use x=\"254.492188\" xlink:href=\"#DejaVuSans-48\"/>\r\n      </g>\r\n     </g>\r\n    </g>\r\n    <g id=\"ytick_7\">\r\n     <g id=\"line2d_12\">\r\n      <g>\r\n       <use style=\"stroke:#000000;stroke-width:0.8;\" x=\"59.690625\" xlink:href=\"#m3aed48b4ac\" y=\"52.502754\"/>\r\n      </g>\r\n     </g>\r\n     <g id=\"text_13\">\r\n      <!-- 30000 -->\r\n      <g transform=\"translate(20.878125 56.301973)scale(0.1 -0.1)\">\r\n       <use xlink:href=\"#DejaVuSans-51\"/>\r\n       <use x=\"63.623047\" xlink:href=\"#DejaVuSans-48\"/>\r\n       <use x=\"127.246094\" xlink:href=\"#DejaVuSans-48\"/>\r\n       <use x=\"190.869141\" xlink:href=\"#DejaVuSans-48\"/>\r\n       <use x=\"254.492188\" xlink:href=\"#DejaVuSans-48\"/>\r\n      </g>\r\n     </g>\r\n    </g>\r\n    <g id=\"text_14\">\r\n     <!-- Sales Total -->\r\n     <g transform=\"translate(14.798438 157.612344)rotate(-90)scale(0.1 -0.1)\">\r\n      <defs>\r\n       <path d=\"M 34.28125 27.484375 \r\nQ 23.390625 27.484375 19.1875 25 \r\nQ 14.984375 22.515625 14.984375 16.5 \r\nQ 14.984375 11.71875 18.140625 8.90625 \r\nQ 21.296875 6.109375 26.703125 6.109375 \r\nQ 34.1875 6.109375 38.703125 11.40625 \r\nQ 43.21875 16.703125 43.21875 25.484375 \r\nL 43.21875 27.484375 \r\nz\r\nM 52.203125 31.203125 \r\nL 52.203125 0 \r\nL 43.21875 0 \r\nL 43.21875 8.296875 \r\nQ 40.140625 3.328125 35.546875 0.953125 \r\nQ 30.953125 -1.421875 24.3125 -1.421875 \r\nQ 15.921875 -1.421875 10.953125 3.296875 \r\nQ 6 8.015625 6 15.921875 \r\nQ 6 25.140625 12.171875 29.828125 \r\nQ 18.359375 34.515625 30.609375 34.515625 \r\nL 43.21875 34.515625 \r\nL 43.21875 35.40625 \r\nQ 43.21875 41.609375 39.140625 45 \r\nQ 35.0625 48.390625 27.6875 48.390625 \r\nQ 23 48.390625 18.546875 47.265625 \r\nQ 14.109375 46.140625 10.015625 43.890625 \r\nL 10.015625 52.203125 \r\nQ 14.9375 54.109375 19.578125 55.046875 \r\nQ 24.21875 56 28.609375 56 \r\nQ 40.484375 56 46.34375 49.84375 \r\nQ 52.203125 43.703125 52.203125 31.203125 \r\nz\r\n\" id=\"DejaVuSans-97\"/>\r\n       <path d=\"M 44.28125 53.078125 \r\nL 44.28125 44.578125 \r\nQ 40.484375 46.53125 36.375 47.5 \r\nQ 32.28125 48.484375 27.875 48.484375 \r\nQ 21.1875 48.484375 17.84375 46.4375 \r\nQ 14.5 44.390625 14.5 40.28125 \r\nQ 14.5 37.15625 16.890625 35.375 \r\nQ 19.28125 33.59375 26.515625 31.984375 \r\nL 29.59375 31.296875 \r\nQ 39.15625 29.25 43.1875 25.515625 \r\nQ 47.21875 21.78125 47.21875 15.09375 \r\nQ 47.21875 7.46875 41.1875 3.015625 \r\nQ 35.15625 -1.421875 24.609375 -1.421875 \r\nQ 20.21875 -1.421875 15.453125 -0.5625 \r\nQ 10.6875 0.296875 5.421875 2 \r\nL 5.421875 11.28125 \r\nQ 10.40625 8.6875 15.234375 7.390625 \r\nQ 20.0625 6.109375 24.8125 6.109375 \r\nQ 31.15625 6.109375 34.5625 8.28125 \r\nQ 37.984375 10.453125 37.984375 14.40625 \r\nQ 37.984375 18.0625 35.515625 20.015625 \r\nQ 33.0625 21.96875 24.703125 23.78125 \r\nL 21.578125 24.515625 \r\nQ 13.234375 26.265625 9.515625 29.90625 \r\nQ 5.8125 33.546875 5.8125 39.890625 \r\nQ 5.8125 47.609375 11.28125 51.796875 \r\nQ 16.75 56 26.8125 56 \r\nQ 31.78125 56 36.171875 55.265625 \r\nQ 40.578125 54.546875 44.28125 53.078125 \r\nz\r\n\" id=\"DejaVuSans-115\"/>\r\n       <path d=\"M -0.296875 72.90625 \r\nL 61.375 72.90625 \r\nL 61.375 64.59375 \r\nL 35.5 64.59375 \r\nL 35.5 0 \r\nL 25.59375 0 \r\nL 25.59375 64.59375 \r\nL -0.296875 64.59375 \r\nz\r\n\" id=\"DejaVuSans-84\"/>\r\n       <path d=\"M 18.3125 70.21875 \r\nL 18.3125 54.6875 \r\nL 36.8125 54.6875 \r\nL 36.8125 47.703125 \r\nL 18.3125 47.703125 \r\nL 18.3125 18.015625 \r\nQ 18.3125 11.328125 20.140625 9.421875 \r\nQ 21.96875 7.515625 27.59375 7.515625 \r\nL 36.8125 7.515625 \r\nL 36.8125 0 \r\nL 27.59375 0 \r\nQ 17.1875 0 13.234375 3.875 \r\nQ 9.28125 7.765625 9.28125 18.015625 \r\nL 9.28125 47.703125 \r\nL 2.6875 47.703125 \r\nL 2.6875 54.6875 \r\nL 9.28125 54.6875 \r\nL 9.28125 70.21875 \r\nz\r\n\" id=\"DejaVuSans-116\"/>\r\n      </defs>\r\n      <use xlink:href=\"#DejaVuSans-83\"/>\r\n      <use x=\"63.476562\" xlink:href=\"#DejaVuSans-97\"/>\r\n      <use x=\"124.755859\" xlink:href=\"#DejaVuSans-108\"/>\r\n      <use x=\"152.539062\" xlink:href=\"#DejaVuSans-101\"/>\r\n      <use x=\"214.0625\" xlink:href=\"#DejaVuSans-115\"/>\r\n      <use x=\"266.162109\" xlink:href=\"#DejaVuSans-32\"/>\r\n      <use x=\"297.949219\" xlink:href=\"#DejaVuSans-84\"/>\r\n      <use x=\"342.033203\" xlink:href=\"#DejaVuSans-111\"/>\r\n      <use x=\"403.214844\" xlink:href=\"#DejaVuSans-116\"/>\r\n      <use x=\"442.423828\" xlink:href=\"#DejaVuSans-97\"/>\r\n      <use x=\"503.703125\" xlink:href=\"#DejaVuSans-108\"/>\r\n     </g>\r\n    </g>\r\n   </g>\r\n   <g id=\"patch_8\">\r\n    <path d=\"M 59.690625 239.758125 \r\nL 59.690625 22.318125 \r\n\" style=\"fill:none;stroke:#000000;stroke-linecap:square;stroke-linejoin:miter;stroke-width:0.8;\"/>\r\n   </g>\r\n   <g id=\"patch_9\">\r\n    <path d=\"M 394.490625 239.758125 \r\nL 394.490625 22.318125 \r\n\" style=\"fill:none;stroke:#000000;stroke-linecap:square;stroke-linejoin:miter;stroke-width:0.8;\"/>\r\n   </g>\r\n   <g id=\"patch_10\">\r\n    <path d=\"M 59.690625 239.758125 \r\nL 394.490625 239.758125 \r\n\" style=\"fill:none;stroke:#000000;stroke-linecap:square;stroke-linejoin:miter;stroke-width:0.8;\"/>\r\n   </g>\r\n   <g id=\"patch_11\">\r\n    <path d=\"M 59.690625 22.318125 \r\nL 394.490625 22.318125 \r\n\" style=\"fill:none;stroke:#000000;stroke-linecap:square;stroke-linejoin:miter;stroke-width:0.8;\"/>\r\n   </g>\r\n   <g id=\"text_15\">\r\n    <!-- Sales by Employee -->\r\n    <g transform=\"translate(170.228438 16.318125)scale(0.12 -0.12)\">\r\n     <use xlink:href=\"#DejaVuSans-83\"/>\r\n     <use x=\"63.476562\" xlink:href=\"#DejaVuSans-97\"/>\r\n     <use x=\"124.755859\" xlink:href=\"#DejaVuSans-108\"/>\r\n     <use x=\"152.539062\" xlink:href=\"#DejaVuSans-101\"/>\r\n     <use x=\"214.0625\" xlink:href=\"#DejaVuSans-115\"/>\r\n     <use x=\"266.162109\" xlink:href=\"#DejaVuSans-32\"/>\r\n     <use x=\"297.949219\" xlink:href=\"#DejaVuSans-98\"/>\r\n     <use x=\"361.425781\" xlink:href=\"#DejaVuSans-121\"/>\r\n     <use x=\"420.605469\" xlink:href=\"#DejaVuSans-32\"/>\r\n     <use x=\"452.392578\" xlink:href=\"#DejaVuSans-69\"/>\r\n     <use x=\"515.576172\" xlink:href=\"#DejaVuSans-109\"/>\r\n     <use x=\"612.988281\" xlink:href=\"#DejaVuSans-112\"/>\r\n     <use x=\"676.464844\" xlink:href=\"#DejaVuSans-108\"/>\r\n     <use x=\"704.248047\" xlink:href=\"#DejaVuSans-111\"/>\r\n     <use x=\"765.429688\" xlink:href=\"#DejaVuSans-121\"/>\r\n     <use x=\"824.609375\" xlink:href=\"#DejaVuSans-101\"/>\r\n     <use x=\"886.132812\" xlink:href=\"#DejaVuSans-101\"/>\r\n    </g>\r\n   </g>\r\n   <g id=\"legend_1\">\r\n    <g id=\"patch_12\">\r\n     <path d=\"M 328.028125 44.99625 \r\nL 387.490625 44.99625 \r\nQ 389.490625 44.99625 389.490625 42.99625 \r\nL 389.490625 29.318125 \r\nQ 389.490625 27.318125 387.490625 27.318125 \r\nL 328.028125 27.318125 \r\nQ 326.028125 27.318125 326.028125 29.318125 \r\nL 326.028125 42.99625 \r\nQ 326.028125 44.99625 328.028125 44.99625 \r\nz\r\n\" style=\"fill:#ffffff;opacity:0.8;stroke:#cccccc;stroke-linejoin:miter;\"/>\r\n    </g>\r\n    <g id=\"patch_13\">\r\n     <path d=\"M 330.028125 38.916562 \r\nL 350.028125 38.916562 \r\nL 350.028125 31.916562 \r\nL 330.028125 31.916562 \r\nz\r\n\" style=\"fill:#1f77b4;\"/>\r\n    </g>\r\n    <g id=\"text_16\">\r\n     <!-- Value -->\r\n     <g transform=\"translate(358.028125 38.916562)scale(0.1 -0.1)\">\r\n      <defs>\r\n       <path d=\"M 28.609375 0 \r\nL 0.78125 72.90625 \r\nL 11.078125 72.90625 \r\nL 34.1875 11.53125 \r\nL 57.328125 72.90625 \r\nL 67.578125 72.90625 \r\nL 39.796875 0 \r\nz\r\n\" id=\"DejaVuSans-86\"/>\r\n      </defs>\r\n      <use xlink:href=\"#DejaVuSans-86\"/>\r\n      <use x=\"60.658203\" xlink:href=\"#DejaVuSans-97\"/>\r\n      <use x=\"121.9375\" xlink:href=\"#DejaVuSans-108\"/>\r\n      <use x=\"149.720703\" xlink:href=\"#DejaVuSans-117\"/>\r\n      <use x=\"213.099609\" xlink:href=\"#DejaVuSans-101\"/>\r\n     </g>\r\n    </g>\r\n   </g>\r\n  </g>\r\n </g>\r\n <defs>\r\n  <clipPath id=\"p7b97902495\">\r\n   <rect height=\"217.44\" width=\"334.8\" x=\"59.690625\" y=\"22.318125\"/>\r\n  </clipPath>\r\n </defs>\r\n</svg>\r\n",
      "image/png": "[encoded data removed]"
     },
     "metadata": {
      "needs_background": "light"
     }
    }
   ],
   "source": [
    "sales_by_employee = sales_by_employee.groupby(['Employee']).sum()\n",
    "sales_by_employee\n",
    "sales_by_employee.sort_values(by = 'Value', ascending = False).plot.bar(title = 'Sales by Employee', xlabel = 'Employee Number', ylabel = 'Sales Total')"
   ]
  },
  {
   "source": [
    "## Top sales per period per salesperson"
   ],
   "cell_type": "markdown",
   "metadata": {}
  },
  {
   "source": [
    "### Create Period column"
   ],
   "cell_type": "markdown",
   "metadata": {}
  },
  {
   "cell_type": "code",
   "execution_count": 11,
   "metadata": {},
   "outputs": [],
   "source": [
    "sales_by_period_employee = sales_employees_df\n",
    "sales_by_period_employee['Period'] = sales_employees_df['Year'].astype(str) + ' ' + sales_employees_df['Attribute']\n",
    "sales_by_period_employee['Employee'] = sales_by_period_employee['EMP_ID'] + ' ' + sales_by_period_employee['Region']"
   ]
  },
  {
   "source": [
    "### Group By Period column"
   ],
   "cell_type": "markdown",
   "metadata": {}
  },
  {
   "cell_type": "code",
   "execution_count": 22,
   "metadata": {},
   "outputs": [
    {
     "output_type": "execute_result",
     "data": {
      "text/plain": [
       "                    Value\n",
       "Period   Employee        \n",
       "2019 W00 EMP234 NW    221\n",
       "         EMP244 NW    327\n",
       "         EMP256 NW    156\n",
       "         EMP267 SW    274\n",
       "         EMP290 SW    110\n",
       "...                   ...\n",
       "2020 W51 EMP234 NW    221\n",
       "         EMP244 NW    274\n",
       "         EMP256 NW    155\n",
       "         EMP267 SW    216\n",
       "         EMP290 SW    133\n",
       "\n",
       "[520 rows x 1 columns]"
      ],
      "text/html": "<div>\n<style scoped>\n    .dataframe tbody tr th:only-of-type {\n        vertical-align: middle;\n    }\n\n    .dataframe tbody tr th {\n        vertical-align: top;\n    }\n\n    .dataframe thead th {\n        text-align: right;\n    }\n</style>\n<table border=\"1\" class=\"dataframe\">\n  <thead>\n    <tr style=\"text-align: right;\">\n      <th></th>\n      <th></th>\n      <th>Value</th>\n    </tr>\n    <tr>\n      <th>Period</th>\n      <th>Employee</th>\n      <th></th>\n    </tr>\n  </thead>\n  <tbody>\n    <tr>\n      <th rowspan=\"5\" valign=\"top\">2019 W00</th>\n      <th>EMP234 NW</th>\n      <td>221</td>\n    </tr>\n    <tr>\n      <th>EMP244 NW</th>\n      <td>327</td>\n    </tr>\n    <tr>\n      <th>EMP256 NW</th>\n      <td>156</td>\n    </tr>\n    <tr>\n      <th>EMP267 SW</th>\n      <td>274</td>\n    </tr>\n    <tr>\n      <th>EMP290 SW</th>\n      <td>110</td>\n    </tr>\n    <tr>\n      <th>...</th>\n      <th>...</th>\n      <td>...</td>\n    </tr>\n    <tr>\n      <th rowspan=\"5\" valign=\"top\">2020 W51</th>\n      <th>EMP234 NW</th>\n      <td>221</td>\n    </tr>\n    <tr>\n      <th>EMP244 NW</th>\n      <td>274</td>\n    </tr>\n    <tr>\n      <th>EMP256 NW</th>\n      <td>155</td>\n    </tr>\n    <tr>\n      <th>EMP267 SW</th>\n      <td>216</td>\n    </tr>\n    <tr>\n      <th>EMP290 SW</th>\n      <td>133</td>\n    </tr>\n  </tbody>\n</table>\n<p>520 rows × 1 columns</p>\n</div>"
     },
     "metadata": {},
     "execution_count": 22
    }
   ],
   "source": [
    "sales_by_period_employee = pd.DataFrame(sales_by_period_employee, columns= ['Period', 'Employee', 'Value'])\n",
    "emps = sales_by_period_employee.groupby(by = ['Period', 'Employee']).sum()\n",
    "emps"
   ]
  },
  {
   "source": [
    "### Compare if employee's value is the maximum using .transform('max')"
   ],
   "cell_type": "markdown",
   "metadata": {}
  },
  {
   "cell_type": "code",
   "execution_count": 26,
   "metadata": {},
   "outputs": [
    {
     "output_type": "execute_result",
     "data": {
      "text/plain": [
       "     index    Period   Employee  Value\n",
       "0        1  2019 W00  EMP244 NW    327\n",
       "1        6  2019 W01  EMP244 NW    323\n",
       "2       13  2019 W02  EMP267 SW    358\n",
       "3       18  2019 W03  EMP267 SW    390\n",
       "4       21  2019 W04  EMP244 NW    362\n",
       "..     ...       ...        ...    ...\n",
       "99     498  2020 W47  EMP267 SW    314\n",
       "100    503  2020 W48  EMP267 SW    297\n",
       "101    508  2020 W49  EMP267 SW    299\n",
       "102    511  2020 W50  EMP244 NW    295\n",
       "103    516  2020 W51  EMP244 NW    274\n",
       "\n",
       "[104 rows x 4 columns]"
      ],
      "text/html": "<div>\n<style scoped>\n    .dataframe tbody tr th:only-of-type {\n        vertical-align: middle;\n    }\n\n    .dataframe tbody tr th {\n        vertical-align: top;\n    }\n\n    .dataframe thead th {\n        text-align: right;\n    }\n</style>\n<table border=\"1\" class=\"dataframe\">\n  <thead>\n    <tr style=\"text-align: right;\">\n      <th></th>\n      <th>index</th>\n      <th>Period</th>\n      <th>Employee</th>\n      <th>Value</th>\n    </tr>\n  </thead>\n  <tbody>\n    <tr>\n      <th>0</th>\n      <td>1</td>\n      <td>2019 W00</td>\n      <td>EMP244 NW</td>\n      <td>327</td>\n    </tr>\n    <tr>\n      <th>1</th>\n      <td>6</td>\n      <td>2019 W01</td>\n      <td>EMP244 NW</td>\n      <td>323</td>\n    </tr>\n    <tr>\n      <th>2</th>\n      <td>13</td>\n      <td>2019 W02</td>\n      <td>EMP267 SW</td>\n      <td>358</td>\n    </tr>\n    <tr>\n      <th>3</th>\n      <td>18</td>\n      <td>2019 W03</td>\n      <td>EMP267 SW</td>\n      <td>390</td>\n    </tr>\n    <tr>\n      <th>4</th>\n      <td>21</td>\n      <td>2019 W04</td>\n      <td>EMP244 NW</td>\n      <td>362</td>\n    </tr>\n    <tr>\n      <th>...</th>\n      <td>...</td>\n      <td>...</td>\n      <td>...</td>\n      <td>...</td>\n    </tr>\n    <tr>\n      <th>99</th>\n      <td>498</td>\n      <td>2020 W47</td>\n      <td>EMP267 SW</td>\n      <td>314</td>\n    </tr>\n    <tr>\n      <th>100</th>\n      <td>503</td>\n      <td>2020 W48</td>\n      <td>EMP267 SW</td>\n      <td>297</td>\n    </tr>\n    <tr>\n      <th>101</th>\n      <td>508</td>\n      <td>2020 W49</td>\n      <td>EMP267 SW</td>\n      <td>299</td>\n    </tr>\n    <tr>\n      <th>102</th>\n      <td>511</td>\n      <td>2020 W50</td>\n      <td>EMP244 NW</td>\n      <td>295</td>\n    </tr>\n    <tr>\n      <th>103</th>\n      <td>516</td>\n      <td>2020 W51</td>\n      <td>EMP244 NW</td>\n      <td>274</td>\n    </tr>\n  </tbody>\n</table>\n<p>104 rows × 4 columns</p>\n</div>"
     },
     "metadata": {},
     "execution_count": 26
    }
   ],
   "source": [
    "emps = emps.reset_index()\n",
    "emps = emps[emps['Value'] == emps.groupby('Period')['Value'].transform('max')]\n",
    "emps = emps.sort_values(by = 'Period', ascending = True)\n",
    "emps"
   ]
  },
  {
   "source": [
    "## Sales by Category of Items"
   ],
   "cell_type": "markdown",
   "metadata": {}
  },
  {
   "source": [
    "### Getting Items data"
   ],
   "cell_type": "markdown",
   "metadata": {}
  },
  {
   "cell_type": "code",
   "execution_count": 24,
   "metadata": {},
   "outputs": [],
   "source": [
    "categorized_df = product_sales_df\n",
    "product_sales_df['Period'] = product_sales_df['Year'].astype(str) + ' ' + product_sales_df['Attribute']\n",
    "product_sales_df['Category'] = np.where(product_sales_df['ITEM_CODE'].str[0:3] == 'ESP', 'Warranty', 'Product')\n",
    "categorized_df = pd.DataFrame(product_sales_df, columns = ['Period', 'Category', 'Value'])"
   ]
  },
  {
   "source": [
    "### Grouping Values by Category"
   ],
   "cell_type": "markdown",
   "metadata": {}
  },
  {
   "cell_type": "code",
   "execution_count": 25,
   "metadata": {},
   "outputs": [
    {
     "output_type": "execute_result",
     "data": {
      "text/plain": [
       "          Value\n",
       "Category       \n",
       "Product   99446\n",
       "Warranty  15603"
      ],
      "text/html": "<div>\n<style scoped>\n    .dataframe tbody tr th:only-of-type {\n        vertical-align: middle;\n    }\n\n    .dataframe tbody tr th {\n        vertical-align: top;\n    }\n\n    .dataframe thead th {\n        text-align: right;\n    }\n</style>\n<table border=\"1\" class=\"dataframe\">\n  <thead>\n    <tr style=\"text-align: right;\">\n      <th></th>\n      <th>Value</th>\n    </tr>\n    <tr>\n      <th>Category</th>\n      <th></th>\n    </tr>\n  </thead>\n  <tbody>\n    <tr>\n      <th>Product</th>\n      <td>99446</td>\n    </tr>\n    <tr>\n      <th>Warranty</th>\n      <td>15603</td>\n    </tr>\n  </tbody>\n</table>\n</div>"
     },
     "metadata": {},
     "execution_count": 25
    }
   ],
   "source": [
    "categories_df = categorized_df.groupby(['Category']).sum()\n",
    "categories_df"
   ]
  },
  {
   "cell_type": "code",
   "execution_count": null,
   "metadata": {},
   "outputs": [],
   "source": []
  }
 ]
}